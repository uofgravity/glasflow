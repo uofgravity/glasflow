{
 "cells": [
  {
   "cell_type": "markdown",
   "metadata": {},
   "source": [
    "Example of training a flow using `glasflow`"
   ]
  },
  {
   "cell_type": "code",
   "execution_count": null,
   "metadata": {},
   "outputs": [],
   "source": [
    "from glasflow.flows import RealNVP\n",
    "import matplotlib.pyplot as plt\n",
    "import numpy as np\n",
    "from scipy.stats import norm\n",
    "import seaborn as sns\n",
    "import sklearn.datasets as datasets\n",
    "import torch\n",
    "from torch import optim\n",
    "\n",
    "# Update the plotting style\n",
    "sns.set_context(\"notebook\")\n",
    "sns.set_palette(\"colorblind\")"
   ]
  },
  {
   "cell_type": "code",
   "execution_count": null,
   "metadata": {},
   "outputs": [],
   "source": [
    "x, y = datasets.make_moons(128, noise=0.05)\n",
    "plt.scatter(x[:, 0], x[:, 1])\n",
    "plt.show()"
   ]
  },
  {
   "cell_type": "code",
   "execution_count": null,
   "metadata": {},
   "outputs": [],
   "source": [
    "flow = RealNVP(\n",
    "    n_inputs=2,\n",
    "    n_transforms=5,\n",
    "    n_neurons=32,\n",
    "    batch_norm_between_transforms=True,\n",
    ")"
   ]
  },
  {
   "cell_type": "code",
   "execution_count": null,
   "metadata": {},
   "outputs": [],
   "source": [
    "optimizer = optim.Adam(flow.parameters())"
   ]
  },
  {
   "cell_type": "code",
   "execution_count": null,
   "metadata": {},
   "outputs": [],
   "source": [
    "num_iter = 5000\n",
    "train_loss = []\n",
    "\n",
    "for i in range(num_iter):\n",
    "    t_loss = 0\n",
    "\n",
    "    x, y = datasets.make_moons(128, noise=0.1)\n",
    "    x = torch.tensor(x, dtype=torch.float32)\n",
    "    optimizer.zero_grad()\n",
    "    loss = -flow.log_prob(inputs=x).mean()\n",
    "    loss.backward()\n",
    "    optimizer.step()\n",
    "    t_loss += loss.item()\n",
    "\n",
    "    if (i + 1) % 500 == 0:\n",
    "        xline = torch.linspace(-1.5, 2.5, 100)\n",
    "        yline = torch.linspace(-0.75, 1.25, 100)\n",
    "        xgrid, ygrid = torch.meshgrid(xline, yline)\n",
    "        xyinput = torch.cat(\n",
    "            [xgrid.reshape(-1, 1), ygrid.reshape(-1, 1)], dim=1\n",
    "        )\n",
    "\n",
    "        with torch.no_grad():\n",
    "            zgrid = flow.log_prob(xyinput).exp().reshape(100, 100)\n",
    "\n",
    "        plt.contourf(xgrid.numpy(), ygrid.numpy(), zgrid.numpy())\n",
    "        plt.title(\"iteration {}\".format(i + 1))\n",
    "        plt.show()\n",
    "\n",
    "    train_loss.append(t_loss)"
   ]
  },
  {
   "cell_type": "code",
   "execution_count": null,
   "metadata": {},
   "outputs": [],
   "source": [
    "plt.plot(train_loss)\n",
    "plt.xlabel(\"Iteration\", fontsize=12)\n",
    "plt.ylabel(\"Training loss\", fontsize=12)\n",
    "plt.show()"
   ]
  },
  {
   "cell_type": "markdown",
   "metadata": {},
   "source": [
    "## Drawing samples from the flow\n",
    "\n",
    "We can now draw samples from the trained flow."
   ]
  },
  {
   "cell_type": "code",
   "execution_count": null,
   "metadata": {},
   "outputs": [],
   "source": [
    "n = 1000\n",
    "flow.eval()\n",
    "with torch.no_grad():\n",
    "    generated_samples = flow.sample(1000)"
   ]
  },
  {
   "cell_type": "code",
   "execution_count": null,
   "metadata": {},
   "outputs": [],
   "source": [
    "plt.scatter(generated_samples[:, 0], generated_samples[:, 1])\n",
    "plt.show()"
   ]
  },
  {
   "cell_type": "markdown",
   "metadata": {},
   "source": [
    "## Plotting the latent space\n",
    "\n",
    "We can pass samples through the flow and produces samples in the latent space. These samples (z) should be Gaussian."
   ]
  },
  {
   "cell_type": "code",
   "execution_count": null,
   "metadata": {},
   "outputs": [],
   "source": [
    "flow.eval()\n",
    "with torch.no_grad():\n",
    "    z_, _ = flow.forward(x)"
   ]
  },
  {
   "cell_type": "code",
   "execution_count": null,
   "metadata": {},
   "outputs": [],
   "source": [
    "g = np.linspace(-5, 5, 100)\n",
    "plt.plot(g, norm.pdf(g), label=\"Standard Gaussian\")\n",
    "\n",
    "plt.hist(z_[:, 0], density=True, label=\"z_0\")\n",
    "plt.hist(z_[:, 1], density=True, label=\"z_1\")\n",
    "plt.legend()\n",
    "plt.show()"
   ]
  },
  {
   "cell_type": "code",
   "execution_count": null,
   "metadata": {},
   "outputs": [],
   "source": []
  }
 ],
 "metadata": {
  "kernelspec": {
   "display_name": "Python 3.9.13 ('test-example')",
   "language": "python",
   "name": "python3"
  },
  "language_info": {
   "codemirror_mode": {
    "name": "ipython",
    "version": 3
   },
   "file_extension": ".py",
   "mimetype": "text/x-python",
   "name": "python",
   "nbconvert_exporter": "python",
   "pygments_lexer": "ipython3",
   "version": "3.9.13"
  },
  "vscode": {
   "interpreter": {
    "hash": "3517700c92508b2e59eb9f265f5f8465660b244c7bbb91180936f922ef327d4b"
   }
  }
 },
 "nbformat": 4,
 "nbformat_minor": 4
}
